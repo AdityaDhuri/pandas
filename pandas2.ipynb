{
  "nbformat": 4,
  "nbformat_minor": 5,
  "metadata": {
    "kernelspec": {
      "display_name": "Python 3",
      "language": "python",
      "name": "python3"
    },
    "language_info": {
      "codemirror_mode": {
        "name": "ipython",
        "version": 3
      },
      "file_extension": ".py",
      "mimetype": "text/x-python",
      "name": "python",
      "nbconvert_exporter": "python",
      "pygments_lexer": "ipython3",
      "version": "3.8.8"
    },
    "colab": {
      "name": "pandas2.ipynb",
      "provenance": [],
      "include_colab_link": true
    }
  },
  "cells": [
    {
      "cell_type": "markdown",
      "metadata": {
        "id": "view-in-github",
        "colab_type": "text"
      },
      "source": [
        "<a href=\"https://colab.research.google.com/github/AdityaDhuri/pandas/blob/main/pandas2.ipynb\" target=\"_parent\"><img src=\"https://colab.research.google.com/assets/colab-badge.svg\" alt=\"Open In Colab\"/></a>"
      ]
    },
    {
      "cell_type": "code",
      "metadata": {
        "id": "3a9c8f59"
      },
      "source": [
        "import pandas as pd\n",
        "import numpy as np"
      ],
      "id": "3a9c8f59",
      "execution_count": null,
      "outputs": []
    },
    {
      "cell_type": "code",
      "metadata": {
        "id": "2ff0cd1d"
      },
      "source": [
        "ad = pd.DataFrame(np.random.rand(5,5))"
      ],
      "id": "2ff0cd1d",
      "execution_count": null,
      "outputs": []
    },
    {
      "cell_type": "code",
      "metadata": {
        "id": "2cb1244a",
        "outputId": "8d055037-5669-4898-c1d7-3b84dce52524"
      },
      "source": [
        "ad\n"
      ],
      "id": "2cb1244a",
      "execution_count": null,
      "outputs": [
        {
          "output_type": "execute_result",
          "data": {
            "text/html": [
              "<div>\n",
              "<style scoped>\n",
              "    .dataframe tbody tr th:only-of-type {\n",
              "        vertical-align: middle;\n",
              "    }\n",
              "\n",
              "    .dataframe tbody tr th {\n",
              "        vertical-align: top;\n",
              "    }\n",
              "\n",
              "    .dataframe thead th {\n",
              "        text-align: right;\n",
              "    }\n",
              "</style>\n",
              "<table border=\"1\" class=\"dataframe\">\n",
              "  <thead>\n",
              "    <tr style=\"text-align: right;\">\n",
              "      <th></th>\n",
              "      <th>0</th>\n",
              "      <th>1</th>\n",
              "      <th>2</th>\n",
              "      <th>3</th>\n",
              "      <th>4</th>\n",
              "    </tr>\n",
              "  </thead>\n",
              "  <tbody>\n",
              "    <tr>\n",
              "      <th>0</th>\n",
              "      <td>0.920282</td>\n",
              "      <td>0.053143</td>\n",
              "      <td>0.619724</td>\n",
              "      <td>0.732757</td>\n",
              "      <td>0.763771</td>\n",
              "    </tr>\n",
              "    <tr>\n",
              "      <th>1</th>\n",
              "      <td>0.989967</td>\n",
              "      <td>0.678878</td>\n",
              "      <td>0.928954</td>\n",
              "      <td>0.135636</td>\n",
              "      <td>0.201318</td>\n",
              "    </tr>\n",
              "    <tr>\n",
              "      <th>2</th>\n",
              "      <td>0.446693</td>\n",
              "      <td>0.059242</td>\n",
              "      <td>0.666660</td>\n",
              "      <td>0.277344</td>\n",
              "      <td>0.758317</td>\n",
              "    </tr>\n",
              "    <tr>\n",
              "      <th>3</th>\n",
              "      <td>0.682334</td>\n",
              "      <td>0.341916</td>\n",
              "      <td>0.231397</td>\n",
              "      <td>0.640342</td>\n",
              "      <td>0.966517</td>\n",
              "    </tr>\n",
              "    <tr>\n",
              "      <th>4</th>\n",
              "      <td>0.524456</td>\n",
              "      <td>0.127530</td>\n",
              "      <td>0.727418</td>\n",
              "      <td>0.547657</td>\n",
              "      <td>0.413170</td>\n",
              "    </tr>\n",
              "  </tbody>\n",
              "</table>\n",
              "</div>"
            ],
            "text/plain": [
              "          0         1         2         3         4\n",
              "0  0.920282  0.053143  0.619724  0.732757  0.763771\n",
              "1  0.989967  0.678878  0.928954  0.135636  0.201318\n",
              "2  0.446693  0.059242  0.666660  0.277344  0.758317\n",
              "3  0.682334  0.341916  0.231397  0.640342  0.966517\n",
              "4  0.524456  0.127530  0.727418  0.547657  0.413170"
            ]
          },
          "metadata": {
            "tags": []
          },
          "execution_count": 3
        }
      ]
    },
    {
      "cell_type": "code",
      "metadata": {
        "id": "a16282d4"
      },
      "source": [
        "ad.index= list('ABCDE')"
      ],
      "id": "a16282d4",
      "execution_count": null,
      "outputs": []
    },
    {
      "cell_type": "code",
      "metadata": {
        "id": "c82af746",
        "outputId": "aa77d600-d79e-4a2e-816f-213754e9a65f"
      },
      "source": [
        "ad\n"
      ],
      "id": "c82af746",
      "execution_count": null,
      "outputs": [
        {
          "output_type": "execute_result",
          "data": {
            "text/html": [
              "<div>\n",
              "<style scoped>\n",
              "    .dataframe tbody tr th:only-of-type {\n",
              "        vertical-align: middle;\n",
              "    }\n",
              "\n",
              "    .dataframe tbody tr th {\n",
              "        vertical-align: top;\n",
              "    }\n",
              "\n",
              "    .dataframe thead th {\n",
              "        text-align: right;\n",
              "    }\n",
              "</style>\n",
              "<table border=\"1\" class=\"dataframe\">\n",
              "  <thead>\n",
              "    <tr style=\"text-align: right;\">\n",
              "      <th></th>\n",
              "      <th>0</th>\n",
              "      <th>1</th>\n",
              "      <th>2</th>\n",
              "      <th>3</th>\n",
              "      <th>4</th>\n",
              "    </tr>\n",
              "  </thead>\n",
              "  <tbody>\n",
              "    <tr>\n",
              "      <th>A</th>\n",
              "      <td>0.920282</td>\n",
              "      <td>0.053143</td>\n",
              "      <td>0.619724</td>\n",
              "      <td>0.732757</td>\n",
              "      <td>0.763771</td>\n",
              "    </tr>\n",
              "    <tr>\n",
              "      <th>B</th>\n",
              "      <td>0.989967</td>\n",
              "      <td>0.678878</td>\n",
              "      <td>0.928954</td>\n",
              "      <td>0.135636</td>\n",
              "      <td>0.201318</td>\n",
              "    </tr>\n",
              "    <tr>\n",
              "      <th>C</th>\n",
              "      <td>0.446693</td>\n",
              "      <td>0.059242</td>\n",
              "      <td>0.666660</td>\n",
              "      <td>0.277344</td>\n",
              "      <td>0.758317</td>\n",
              "    </tr>\n",
              "    <tr>\n",
              "      <th>D</th>\n",
              "      <td>0.682334</td>\n",
              "      <td>0.341916</td>\n",
              "      <td>0.231397</td>\n",
              "      <td>0.640342</td>\n",
              "      <td>0.966517</td>\n",
              "    </tr>\n",
              "    <tr>\n",
              "      <th>E</th>\n",
              "      <td>0.524456</td>\n",
              "      <td>0.127530</td>\n",
              "      <td>0.727418</td>\n",
              "      <td>0.547657</td>\n",
              "      <td>0.413170</td>\n",
              "    </tr>\n",
              "  </tbody>\n",
              "</table>\n",
              "</div>"
            ],
            "text/plain": [
              "          0         1         2         3         4\n",
              "A  0.920282  0.053143  0.619724  0.732757  0.763771\n",
              "B  0.989967  0.678878  0.928954  0.135636  0.201318\n",
              "C  0.446693  0.059242  0.666660  0.277344  0.758317\n",
              "D  0.682334  0.341916  0.231397  0.640342  0.966517\n",
              "E  0.524456  0.127530  0.727418  0.547657  0.413170"
            ]
          },
          "metadata": {
            "tags": []
          },
          "execution_count": 5
        }
      ]
    },
    {
      "cell_type": "code",
      "metadata": {
        "id": "546f03ee",
        "outputId": "6968727c-55ff-4f83-9574-d856ab4e3242"
      },
      "source": [
        "ad.loc[['A','B'],:]"
      ],
      "id": "546f03ee",
      "execution_count": null,
      "outputs": [
        {
          "output_type": "execute_result",
          "data": {
            "text/html": [
              "<div>\n",
              "<style scoped>\n",
              "    .dataframe tbody tr th:only-of-type {\n",
              "        vertical-align: middle;\n",
              "    }\n",
              "\n",
              "    .dataframe tbody tr th {\n",
              "        vertical-align: top;\n",
              "    }\n",
              "\n",
              "    .dataframe thead th {\n",
              "        text-align: right;\n",
              "    }\n",
              "</style>\n",
              "<table border=\"1\" class=\"dataframe\">\n",
              "  <thead>\n",
              "    <tr style=\"text-align: right;\">\n",
              "      <th></th>\n",
              "      <th>0</th>\n",
              "      <th>1</th>\n",
              "      <th>2</th>\n",
              "      <th>3</th>\n",
              "      <th>4</th>\n",
              "    </tr>\n",
              "  </thead>\n",
              "  <tbody>\n",
              "    <tr>\n",
              "      <th>A</th>\n",
              "      <td>0.920282</td>\n",
              "      <td>0.053143</td>\n",
              "      <td>0.619724</td>\n",
              "      <td>0.732757</td>\n",
              "      <td>0.763771</td>\n",
              "    </tr>\n",
              "    <tr>\n",
              "      <th>B</th>\n",
              "      <td>0.989967</td>\n",
              "      <td>0.678878</td>\n",
              "      <td>0.928954</td>\n",
              "      <td>0.135636</td>\n",
              "      <td>0.201318</td>\n",
              "    </tr>\n",
              "  </tbody>\n",
              "</table>\n",
              "</div>"
            ],
            "text/plain": [
              "          0         1         2         3         4\n",
              "A  0.920282  0.053143  0.619724  0.732757  0.763771\n",
              "B  0.989967  0.678878  0.928954  0.135636  0.201318"
            ]
          },
          "metadata": {
            "tags": []
          },
          "execution_count": 8
        }
      ]
    },
    {
      "cell_type": "code",
      "metadata": {
        "id": "5308e46f",
        "outputId": "56473ed3-3f75-47bf-f4b4-e626c3413888"
      },
      "source": [
        "ad.loc[(ad[0]<0.5) | (ad[3]<0.6)]"
      ],
      "id": "5308e46f",
      "execution_count": null,
      "outputs": [
        {
          "output_type": "execute_result",
          "data": {
            "text/html": [
              "<div>\n",
              "<style scoped>\n",
              "    .dataframe tbody tr th:only-of-type {\n",
              "        vertical-align: middle;\n",
              "    }\n",
              "\n",
              "    .dataframe tbody tr th {\n",
              "        vertical-align: top;\n",
              "    }\n",
              "\n",
              "    .dataframe thead th {\n",
              "        text-align: right;\n",
              "    }\n",
              "</style>\n",
              "<table border=\"1\" class=\"dataframe\">\n",
              "  <thead>\n",
              "    <tr style=\"text-align: right;\">\n",
              "      <th></th>\n",
              "      <th>0</th>\n",
              "      <th>1</th>\n",
              "      <th>2</th>\n",
              "      <th>3</th>\n",
              "      <th>4</th>\n",
              "    </tr>\n",
              "  </thead>\n",
              "  <tbody>\n",
              "    <tr>\n",
              "      <th>B</th>\n",
              "      <td>0.989967</td>\n",
              "      <td>0.678878</td>\n",
              "      <td>0.928954</td>\n",
              "      <td>0.135636</td>\n",
              "      <td>0.201318</td>\n",
              "    </tr>\n",
              "    <tr>\n",
              "      <th>C</th>\n",
              "      <td>0.446693</td>\n",
              "      <td>0.059242</td>\n",
              "      <td>0.666660</td>\n",
              "      <td>0.277344</td>\n",
              "      <td>0.758317</td>\n",
              "    </tr>\n",
              "    <tr>\n",
              "      <th>E</th>\n",
              "      <td>0.524456</td>\n",
              "      <td>0.127530</td>\n",
              "      <td>0.727418</td>\n",
              "      <td>0.547657</td>\n",
              "      <td>0.413170</td>\n",
              "    </tr>\n",
              "  </tbody>\n",
              "</table>\n",
              "</div>"
            ],
            "text/plain": [
              "          0         1         2         3         4\n",
              "B  0.989967  0.678878  0.928954  0.135636  0.201318\n",
              "C  0.446693  0.059242  0.666660  0.277344  0.758317\n",
              "E  0.524456  0.127530  0.727418  0.547657  0.413170"
            ]
          },
          "metadata": {
            "tags": []
          },
          "execution_count": 15
        }
      ]
    },
    {
      "cell_type": "code",
      "metadata": {
        "id": "67756d29",
        "outputId": "1c5d02a0-61e4-4787-84dc-c8e31e9bc476"
      },
      "source": [
        "ad.iloc[1,1]"
      ],
      "id": "67756d29",
      "execution_count": null,
      "outputs": [
        {
          "output_type": "execute_result",
          "data": {
            "text/plain": [
              "0.6788778262489304"
            ]
          },
          "metadata": {
            "tags": []
          },
          "execution_count": 16
        }
      ]
    },
    {
      "cell_type": "code",
      "metadata": {
        "id": "83582516"
      },
      "source": [
        "ad.drop(['E'],inplace=True)"
      ],
      "id": "83582516",
      "execution_count": null,
      "outputs": []
    },
    {
      "cell_type": "code",
      "metadata": {
        "id": "9b11bb8e",
        "outputId": "38396cc4-6f3f-4246-8b79-e53aa25b839f"
      },
      "source": [
        "ad"
      ],
      "id": "9b11bb8e",
      "execution_count": null,
      "outputs": [
        {
          "output_type": "execute_result",
          "data": {
            "text/html": [
              "<div>\n",
              "<style scoped>\n",
              "    .dataframe tbody tr th:only-of-type {\n",
              "        vertical-align: middle;\n",
              "    }\n",
              "\n",
              "    .dataframe tbody tr th {\n",
              "        vertical-align: top;\n",
              "    }\n",
              "\n",
              "    .dataframe thead th {\n",
              "        text-align: right;\n",
              "    }\n",
              "</style>\n",
              "<table border=\"1\" class=\"dataframe\">\n",
              "  <thead>\n",
              "    <tr style=\"text-align: right;\">\n",
              "      <th></th>\n",
              "      <th>0</th>\n",
              "      <th>1</th>\n",
              "      <th>2</th>\n",
              "      <th>3</th>\n",
              "      <th>4</th>\n",
              "    </tr>\n",
              "  </thead>\n",
              "  <tbody>\n",
              "    <tr>\n",
              "      <th>A</th>\n",
              "      <td>0.920282</td>\n",
              "      <td>0.053143</td>\n",
              "      <td>0.619724</td>\n",
              "      <td>0.732757</td>\n",
              "      <td>0.763771</td>\n",
              "    </tr>\n",
              "    <tr>\n",
              "      <th>B</th>\n",
              "      <td>0.989967</td>\n",
              "      <td>0.678878</td>\n",
              "      <td>0.928954</td>\n",
              "      <td>0.135636</td>\n",
              "      <td>0.201318</td>\n",
              "    </tr>\n",
              "    <tr>\n",
              "      <th>C</th>\n",
              "      <td>0.446693</td>\n",
              "      <td>0.059242</td>\n",
              "      <td>0.666660</td>\n",
              "      <td>0.277344</td>\n",
              "      <td>0.758317</td>\n",
              "    </tr>\n",
              "    <tr>\n",
              "      <th>D</th>\n",
              "      <td>0.682334</td>\n",
              "      <td>0.341916</td>\n",
              "      <td>0.231397</td>\n",
              "      <td>0.640342</td>\n",
              "      <td>0.966517</td>\n",
              "    </tr>\n",
              "  </tbody>\n",
              "</table>\n",
              "</div>"
            ],
            "text/plain": [
              "          0         1         2         3         4\n",
              "A  0.920282  0.053143  0.619724  0.732757  0.763771\n",
              "B  0.989967  0.678878  0.928954  0.135636  0.201318\n",
              "C  0.446693  0.059242  0.666660  0.277344  0.758317\n",
              "D  0.682334  0.341916  0.231397  0.640342  0.966517"
            ]
          },
          "metadata": {
            "tags": []
          },
          "execution_count": 18
        }
      ]
    },
    {
      "cell_type": "code",
      "metadata": {
        "id": "18a1749a",
        "outputId": "3e7fee5c-081c-4af9-b42c-45dff9066897"
      },
      "source": [
        "ad.reset_index()"
      ],
      "id": "18a1749a",
      "execution_count": null,
      "outputs": [
        {
          "output_type": "execute_result",
          "data": {
            "text/html": [
              "<div>\n",
              "<style scoped>\n",
              "    .dataframe tbody tr th:only-of-type {\n",
              "        vertical-align: middle;\n",
              "    }\n",
              "\n",
              "    .dataframe tbody tr th {\n",
              "        vertical-align: top;\n",
              "    }\n",
              "\n",
              "    .dataframe thead th {\n",
              "        text-align: right;\n",
              "    }\n",
              "</style>\n",
              "<table border=\"1\" class=\"dataframe\">\n",
              "  <thead>\n",
              "    <tr style=\"text-align: right;\">\n",
              "      <th></th>\n",
              "      <th>index</th>\n",
              "      <th>0</th>\n",
              "      <th>1</th>\n",
              "      <th>2</th>\n",
              "      <th>3</th>\n",
              "      <th>4</th>\n",
              "    </tr>\n",
              "  </thead>\n",
              "  <tbody>\n",
              "    <tr>\n",
              "      <th>0</th>\n",
              "      <td>A</td>\n",
              "      <td>0.920282</td>\n",
              "      <td>0.053143</td>\n",
              "      <td>0.619724</td>\n",
              "      <td>0.732757</td>\n",
              "      <td>0.763771</td>\n",
              "    </tr>\n",
              "    <tr>\n",
              "      <th>1</th>\n",
              "      <td>B</td>\n",
              "      <td>0.989967</td>\n",
              "      <td>0.678878</td>\n",
              "      <td>0.928954</td>\n",
              "      <td>0.135636</td>\n",
              "      <td>0.201318</td>\n",
              "    </tr>\n",
              "    <tr>\n",
              "      <th>2</th>\n",
              "      <td>C</td>\n",
              "      <td>0.446693</td>\n",
              "      <td>0.059242</td>\n",
              "      <td>0.666660</td>\n",
              "      <td>0.277344</td>\n",
              "      <td>0.758317</td>\n",
              "    </tr>\n",
              "    <tr>\n",
              "      <th>3</th>\n",
              "      <td>D</td>\n",
              "      <td>0.682334</td>\n",
              "      <td>0.341916</td>\n",
              "      <td>0.231397</td>\n",
              "      <td>0.640342</td>\n",
              "      <td>0.966517</td>\n",
              "    </tr>\n",
              "  </tbody>\n",
              "</table>\n",
              "</div>"
            ],
            "text/plain": [
              "  index         0         1         2         3         4\n",
              "0     A  0.920282  0.053143  0.619724  0.732757  0.763771\n",
              "1     B  0.989967  0.678878  0.928954  0.135636  0.201318\n",
              "2     C  0.446693  0.059242  0.666660  0.277344  0.758317\n",
              "3     D  0.682334  0.341916  0.231397  0.640342  0.966517"
            ]
          },
          "metadata": {
            "tags": []
          },
          "execution_count": 19
        }
      ]
    },
    {
      "cell_type": "code",
      "metadata": {
        "id": "0b986ba3"
      },
      "source": [
        "ad.reset_index(drop=True, inplace=True)"
      ],
      "id": "0b986ba3",
      "execution_count": null,
      "outputs": []
    },
    {
      "cell_type": "code",
      "metadata": {
        "id": "35aa7eec",
        "outputId": "8b9b7732-2095-4525-cf22-cb67eda5fcc5"
      },
      "source": [
        "ad\n"
      ],
      "id": "35aa7eec",
      "execution_count": null,
      "outputs": [
        {
          "output_type": "execute_result",
          "data": {
            "text/html": [
              "<div>\n",
              "<style scoped>\n",
              "    .dataframe tbody tr th:only-of-type {\n",
              "        vertical-align: middle;\n",
              "    }\n",
              "\n",
              "    .dataframe tbody tr th {\n",
              "        vertical-align: top;\n",
              "    }\n",
              "\n",
              "    .dataframe thead th {\n",
              "        text-align: right;\n",
              "    }\n",
              "</style>\n",
              "<table border=\"1\" class=\"dataframe\">\n",
              "  <thead>\n",
              "    <tr style=\"text-align: right;\">\n",
              "      <th></th>\n",
              "      <th>0</th>\n",
              "      <th>1</th>\n",
              "      <th>2</th>\n",
              "      <th>3</th>\n",
              "      <th>4</th>\n",
              "    </tr>\n",
              "  </thead>\n",
              "  <tbody>\n",
              "    <tr>\n",
              "      <th>0</th>\n",
              "      <td>0.920282</td>\n",
              "      <td>0.053143</td>\n",
              "      <td>0.619724</td>\n",
              "      <td>0.732757</td>\n",
              "      <td>0.763771</td>\n",
              "    </tr>\n",
              "    <tr>\n",
              "      <th>1</th>\n",
              "      <td>0.989967</td>\n",
              "      <td>0.678878</td>\n",
              "      <td>0.928954</td>\n",
              "      <td>0.135636</td>\n",
              "      <td>0.201318</td>\n",
              "    </tr>\n",
              "    <tr>\n",
              "      <th>2</th>\n",
              "      <td>0.446693</td>\n",
              "      <td>0.059242</td>\n",
              "      <td>0.666660</td>\n",
              "      <td>0.277344</td>\n",
              "      <td>0.758317</td>\n",
              "    </tr>\n",
              "    <tr>\n",
              "      <th>3</th>\n",
              "      <td>0.682334</td>\n",
              "      <td>0.341916</td>\n",
              "      <td>0.231397</td>\n",
              "      <td>0.640342</td>\n",
              "      <td>0.966517</td>\n",
              "    </tr>\n",
              "  </tbody>\n",
              "</table>\n",
              "</div>"
            ],
            "text/plain": [
              "          0         1         2         3         4\n",
              "0  0.920282  0.053143  0.619724  0.732757  0.763771\n",
              "1  0.989967  0.678878  0.928954  0.135636  0.201318\n",
              "2  0.446693  0.059242  0.666660  0.277344  0.758317\n",
              "3  0.682334  0.341916  0.231397  0.640342  0.966517"
            ]
          },
          "metadata": {
            "tags": []
          },
          "execution_count": 21
        }
      ]
    },
    {
      "cell_type": "code",
      "metadata": {
        "id": "42603934"
      },
      "source": [
        "ad[1]=0"
      ],
      "id": "42603934",
      "execution_count": null,
      "outputs": []
    },
    {
      "cell_type": "code",
      "metadata": {
        "id": "e57e6f3a",
        "outputId": "f30e6a4e-ae5c-4185-eb18-1bee239af9e2"
      },
      "source": [
        "ad"
      ],
      "id": "e57e6f3a",
      "execution_count": null,
      "outputs": [
        {
          "output_type": "execute_result",
          "data": {
            "text/html": [
              "<div>\n",
              "<style scoped>\n",
              "    .dataframe tbody tr th:only-of-type {\n",
              "        vertical-align: middle;\n",
              "    }\n",
              "\n",
              "    .dataframe tbody tr th {\n",
              "        vertical-align: top;\n",
              "    }\n",
              "\n",
              "    .dataframe thead th {\n",
              "        text-align: right;\n",
              "    }\n",
              "</style>\n",
              "<table border=\"1\" class=\"dataframe\">\n",
              "  <thead>\n",
              "    <tr style=\"text-align: right;\">\n",
              "      <th></th>\n",
              "      <th>0</th>\n",
              "      <th>1</th>\n",
              "      <th>2</th>\n",
              "      <th>3</th>\n",
              "      <th>4</th>\n",
              "    </tr>\n",
              "  </thead>\n",
              "  <tbody>\n",
              "    <tr>\n",
              "      <th>0</th>\n",
              "      <td>0.920282</td>\n",
              "      <td>0</td>\n",
              "      <td>0.619724</td>\n",
              "      <td>0.732757</td>\n",
              "      <td>0.763771</td>\n",
              "    </tr>\n",
              "    <tr>\n",
              "      <th>1</th>\n",
              "      <td>0.989967</td>\n",
              "      <td>0</td>\n",
              "      <td>0.928954</td>\n",
              "      <td>0.135636</td>\n",
              "      <td>0.201318</td>\n",
              "    </tr>\n",
              "    <tr>\n",
              "      <th>2</th>\n",
              "      <td>0.446693</td>\n",
              "      <td>0</td>\n",
              "      <td>0.666660</td>\n",
              "      <td>0.277344</td>\n",
              "      <td>0.758317</td>\n",
              "    </tr>\n",
              "    <tr>\n",
              "      <th>3</th>\n",
              "      <td>0.682334</td>\n",
              "      <td>0</td>\n",
              "      <td>0.231397</td>\n",
              "      <td>0.640342</td>\n",
              "      <td>0.966517</td>\n",
              "    </tr>\n",
              "  </tbody>\n",
              "</table>\n",
              "</div>"
            ],
            "text/plain": [
              "          0  1         2         3         4\n",
              "0  0.920282  0  0.619724  0.732757  0.763771\n",
              "1  0.989967  0  0.928954  0.135636  0.201318\n",
              "2  0.446693  0  0.666660  0.277344  0.758317\n",
              "3  0.682334  0  0.231397  0.640342  0.966517"
            ]
          },
          "metadata": {
            "tags": []
          },
          "execution_count": 30
        }
      ]
    },
    {
      "cell_type": "code",
      "metadata": {
        "id": "40eb2def"
      },
      "source": [
        "ad[:1]=0"
      ],
      "id": "40eb2def",
      "execution_count": null,
      "outputs": []
    },
    {
      "cell_type": "code",
      "metadata": {
        "id": "305736e5",
        "outputId": "ca4867c0-88a4-45b6-d536-3dc92e45b245"
      },
      "source": [
        "ad"
      ],
      "id": "305736e5",
      "execution_count": null,
      "outputs": [
        {
          "output_type": "execute_result",
          "data": {
            "text/html": [
              "<div>\n",
              "<style scoped>\n",
              "    .dataframe tbody tr th:only-of-type {\n",
              "        vertical-align: middle;\n",
              "    }\n",
              "\n",
              "    .dataframe tbody tr th {\n",
              "        vertical-align: top;\n",
              "    }\n",
              "\n",
              "    .dataframe thead th {\n",
              "        text-align: right;\n",
              "    }\n",
              "</style>\n",
              "<table border=\"1\" class=\"dataframe\">\n",
              "  <thead>\n",
              "    <tr style=\"text-align: right;\">\n",
              "      <th></th>\n",
              "      <th>0</th>\n",
              "      <th>1</th>\n",
              "      <th>2</th>\n",
              "      <th>3</th>\n",
              "      <th>4</th>\n",
              "    </tr>\n",
              "  </thead>\n",
              "  <tbody>\n",
              "    <tr>\n",
              "      <th>0</th>\n",
              "      <td>0.000000</td>\n",
              "      <td>0</td>\n",
              "      <td>0.000000</td>\n",
              "      <td>0.000000</td>\n",
              "      <td>0.000000</td>\n",
              "    </tr>\n",
              "    <tr>\n",
              "      <th>1</th>\n",
              "      <td>0.989967</td>\n",
              "      <td>0</td>\n",
              "      <td>0.928954</td>\n",
              "      <td>0.135636</td>\n",
              "      <td>0.201318</td>\n",
              "    </tr>\n",
              "    <tr>\n",
              "      <th>2</th>\n",
              "      <td>0.446693</td>\n",
              "      <td>0</td>\n",
              "      <td>0.666660</td>\n",
              "      <td>0.277344</td>\n",
              "      <td>0.758317</td>\n",
              "    </tr>\n",
              "    <tr>\n",
              "      <th>3</th>\n",
              "      <td>0.682334</td>\n",
              "      <td>0</td>\n",
              "      <td>0.231397</td>\n",
              "      <td>0.640342</td>\n",
              "      <td>0.966517</td>\n",
              "    </tr>\n",
              "  </tbody>\n",
              "</table>\n",
              "</div>"
            ],
            "text/plain": [
              "          0  1         2         3         4\n",
              "0  0.000000  0  0.000000  0.000000  0.000000\n",
              "1  0.989967  0  0.928954  0.135636  0.201318\n",
              "2  0.446693  0  0.666660  0.277344  0.758317\n",
              "3  0.682334  0  0.231397  0.640342  0.966517"
            ]
          },
          "metadata": {
            "tags": []
          },
          "execution_count": 35
        }
      ]
    },
    {
      "cell_type": "code",
      "metadata": {
        "id": "3582df1a"
      },
      "source": [
        "ad[:2]=0"
      ],
      "id": "3582df1a",
      "execution_count": null,
      "outputs": []
    },
    {
      "cell_type": "code",
      "metadata": {
        "id": "38302e05",
        "outputId": "6392a238-07d4-4356-edc0-a1cbd5c461c3"
      },
      "source": [
        "ad"
      ],
      "id": "38302e05",
      "execution_count": null,
      "outputs": [
        {
          "output_type": "execute_result",
          "data": {
            "text/html": [
              "<div>\n",
              "<style scoped>\n",
              "    .dataframe tbody tr th:only-of-type {\n",
              "        vertical-align: middle;\n",
              "    }\n",
              "\n",
              "    .dataframe tbody tr th {\n",
              "        vertical-align: top;\n",
              "    }\n",
              "\n",
              "    .dataframe thead th {\n",
              "        text-align: right;\n",
              "    }\n",
              "</style>\n",
              "<table border=\"1\" class=\"dataframe\">\n",
              "  <thead>\n",
              "    <tr style=\"text-align: right;\">\n",
              "      <th></th>\n",
              "      <th>0</th>\n",
              "      <th>1</th>\n",
              "      <th>2</th>\n",
              "      <th>3</th>\n",
              "      <th>4</th>\n",
              "    </tr>\n",
              "  </thead>\n",
              "  <tbody>\n",
              "    <tr>\n",
              "      <th>0</th>\n",
              "      <td>0.000000</td>\n",
              "      <td>0</td>\n",
              "      <td>0.000000</td>\n",
              "      <td>0.000000</td>\n",
              "      <td>0.000000</td>\n",
              "    </tr>\n",
              "    <tr>\n",
              "      <th>1</th>\n",
              "      <td>0.000000</td>\n",
              "      <td>0</td>\n",
              "      <td>0.000000</td>\n",
              "      <td>0.000000</td>\n",
              "      <td>0.000000</td>\n",
              "    </tr>\n",
              "    <tr>\n",
              "      <th>2</th>\n",
              "      <td>0.446693</td>\n",
              "      <td>0</td>\n",
              "      <td>0.666660</td>\n",
              "      <td>0.277344</td>\n",
              "      <td>0.758317</td>\n",
              "    </tr>\n",
              "    <tr>\n",
              "      <th>3</th>\n",
              "      <td>0.682334</td>\n",
              "      <td>0</td>\n",
              "      <td>0.231397</td>\n",
              "      <td>0.640342</td>\n",
              "      <td>0.966517</td>\n",
              "    </tr>\n",
              "  </tbody>\n",
              "</table>\n",
              "</div>"
            ],
            "text/plain": [
              "          0  1         2         3         4\n",
              "0  0.000000  0  0.000000  0.000000  0.000000\n",
              "1  0.000000  0  0.000000  0.000000  0.000000\n",
              "2  0.446693  0  0.666660  0.277344  0.758317\n",
              "3  0.682334  0  0.231397  0.640342  0.966517"
            ]
          },
          "metadata": {
            "tags": []
          },
          "execution_count": 37
        }
      ]
    },
    {
      "cell_type": "code",
      "metadata": {
        "id": "60c75730"
      },
      "source": [
        "ad=pd.DataFrame(np.random.rand(5,5))"
      ],
      "id": "60c75730",
      "execution_count": null,
      "outputs": []
    },
    {
      "cell_type": "code",
      "metadata": {
        "id": "9b4028f4",
        "outputId": "3c0f6f55-969f-4151-9e93-3f7755aa52d8"
      },
      "source": [
        "ad"
      ],
      "id": "9b4028f4",
      "execution_count": null,
      "outputs": [
        {
          "output_type": "execute_result",
          "data": {
            "text/html": [
              "<div>\n",
              "<style scoped>\n",
              "    .dataframe tbody tr th:only-of-type {\n",
              "        vertical-align: middle;\n",
              "    }\n",
              "\n",
              "    .dataframe tbody tr th {\n",
              "        vertical-align: top;\n",
              "    }\n",
              "\n",
              "    .dataframe thead th {\n",
              "        text-align: right;\n",
              "    }\n",
              "</style>\n",
              "<table border=\"1\" class=\"dataframe\">\n",
              "  <thead>\n",
              "    <tr style=\"text-align: right;\">\n",
              "      <th></th>\n",
              "      <th>0</th>\n",
              "      <th>1</th>\n",
              "      <th>2</th>\n",
              "      <th>3</th>\n",
              "      <th>4</th>\n",
              "    </tr>\n",
              "  </thead>\n",
              "  <tbody>\n",
              "    <tr>\n",
              "      <th>0</th>\n",
              "      <td>0.052887</td>\n",
              "      <td>0.155962</td>\n",
              "      <td>0.049764</td>\n",
              "      <td>0.946775</td>\n",
              "      <td>0.584184</td>\n",
              "    </tr>\n",
              "    <tr>\n",
              "      <th>1</th>\n",
              "      <td>0.791016</td>\n",
              "      <td>0.739470</td>\n",
              "      <td>0.661148</td>\n",
              "      <td>0.434155</td>\n",
              "      <td>0.986025</td>\n",
              "    </tr>\n",
              "    <tr>\n",
              "      <th>2</th>\n",
              "      <td>0.994045</td>\n",
              "      <td>0.094081</td>\n",
              "      <td>0.106701</td>\n",
              "      <td>0.975228</td>\n",
              "      <td>0.131278</td>\n",
              "    </tr>\n",
              "    <tr>\n",
              "      <th>3</th>\n",
              "      <td>0.747283</td>\n",
              "      <td>0.364661</td>\n",
              "      <td>0.236781</td>\n",
              "      <td>0.569910</td>\n",
              "      <td>0.197192</td>\n",
              "    </tr>\n",
              "    <tr>\n",
              "      <th>4</th>\n",
              "      <td>0.143442</td>\n",
              "      <td>0.556144</td>\n",
              "      <td>0.869410</td>\n",
              "      <td>0.932034</td>\n",
              "      <td>0.168648</td>\n",
              "    </tr>\n",
              "  </tbody>\n",
              "</table>\n",
              "</div>"
            ],
            "text/plain": [
              "          0         1         2         3         4\n",
              "0  0.052887  0.155962  0.049764  0.946775  0.584184\n",
              "1  0.791016  0.739470  0.661148  0.434155  0.986025\n",
              "2  0.994045  0.094081  0.106701  0.975228  0.131278\n",
              "3  0.747283  0.364661  0.236781  0.569910  0.197192\n",
              "4  0.143442  0.556144  0.869410  0.932034  0.168648"
            ]
          },
          "metadata": {
            "tags": []
          },
          "execution_count": 39
        }
      ]
    },
    {
      "cell_type": "code",
      "metadata": {
        "id": "c84b565f"
      },
      "source": [
        "ad[1,4]=0"
      ],
      "id": "c84b565f",
      "execution_count": null,
      "outputs": []
    },
    {
      "cell_type": "code",
      "metadata": {
        "id": "9fd877cf",
        "outputId": "e9baac86-ec5a-4332-9cd2-825ec06b8aef"
      },
      "source": [
        "ad"
      ],
      "id": "9fd877cf",
      "execution_count": null,
      "outputs": [
        {
          "output_type": "execute_result",
          "data": {
            "text/html": [
              "<div>\n",
              "<style scoped>\n",
              "    .dataframe tbody tr th:only-of-type {\n",
              "        vertical-align: middle;\n",
              "    }\n",
              "\n",
              "    .dataframe tbody tr th {\n",
              "        vertical-align: top;\n",
              "    }\n",
              "\n",
              "    .dataframe thead th {\n",
              "        text-align: right;\n",
              "    }\n",
              "</style>\n",
              "<table border=\"1\" class=\"dataframe\">\n",
              "  <thead>\n",
              "    <tr style=\"text-align: right;\">\n",
              "      <th></th>\n",
              "      <th>0</th>\n",
              "      <th>1</th>\n",
              "      <th>2</th>\n",
              "      <th>3</th>\n",
              "      <th>4</th>\n",
              "      <th>(1, 4)</th>\n",
              "    </tr>\n",
              "  </thead>\n",
              "  <tbody>\n",
              "    <tr>\n",
              "      <th>0</th>\n",
              "      <td>0.052887</td>\n",
              "      <td>0.155962</td>\n",
              "      <td>0.049764</td>\n",
              "      <td>0.946775</td>\n",
              "      <td>0.584184</td>\n",
              "      <td>0</td>\n",
              "    </tr>\n",
              "    <tr>\n",
              "      <th>1</th>\n",
              "      <td>0.791016</td>\n",
              "      <td>0.739470</td>\n",
              "      <td>0.661148</td>\n",
              "      <td>0.434155</td>\n",
              "      <td>0.986025</td>\n",
              "      <td>0</td>\n",
              "    </tr>\n",
              "    <tr>\n",
              "      <th>2</th>\n",
              "      <td>0.994045</td>\n",
              "      <td>0.094081</td>\n",
              "      <td>0.106701</td>\n",
              "      <td>0.975228</td>\n",
              "      <td>0.131278</td>\n",
              "      <td>0</td>\n",
              "    </tr>\n",
              "    <tr>\n",
              "      <th>3</th>\n",
              "      <td>0.747283</td>\n",
              "      <td>0.364661</td>\n",
              "      <td>0.236781</td>\n",
              "      <td>0.569910</td>\n",
              "      <td>0.197192</td>\n",
              "      <td>0</td>\n",
              "    </tr>\n",
              "    <tr>\n",
              "      <th>4</th>\n",
              "      <td>0.143442</td>\n",
              "      <td>0.556144</td>\n",
              "      <td>0.869410</td>\n",
              "      <td>0.932034</td>\n",
              "      <td>0.168648</td>\n",
              "      <td>0</td>\n",
              "    </tr>\n",
              "  </tbody>\n",
              "</table>\n",
              "</div>"
            ],
            "text/plain": [
              "          0         1         2         3         4  (1, 4)\n",
              "0  0.052887  0.155962  0.049764  0.946775  0.584184       0\n",
              "1  0.791016  0.739470  0.661148  0.434155  0.986025       0\n",
              "2  0.994045  0.094081  0.106701  0.975228  0.131278       0\n",
              "3  0.747283  0.364661  0.236781  0.569910  0.197192       0\n",
              "4  0.143442  0.556144  0.869410  0.932034  0.168648       0"
            ]
          },
          "metadata": {
            "tags": []
          },
          "execution_count": 43
        }
      ]
    },
    {
      "cell_type": "code",
      "metadata": {
        "id": "fb49f8a0"
      },
      "source": [
        "ad.iloc[1]=0"
      ],
      "id": "fb49f8a0",
      "execution_count": null,
      "outputs": []
    },
    {
      "cell_type": "code",
      "metadata": {
        "id": "2d99c6d7",
        "outputId": "1e699c3f-807d-456a-984e-7e301eb2c106"
      },
      "source": [
        "ad"
      ],
      "id": "2d99c6d7",
      "execution_count": null,
      "outputs": [
        {
          "output_type": "execute_result",
          "data": {
            "text/html": [
              "<div>\n",
              "<style scoped>\n",
              "    .dataframe tbody tr th:only-of-type {\n",
              "        vertical-align: middle;\n",
              "    }\n",
              "\n",
              "    .dataframe tbody tr th {\n",
              "        vertical-align: top;\n",
              "    }\n",
              "\n",
              "    .dataframe thead th {\n",
              "        text-align: right;\n",
              "    }\n",
              "</style>\n",
              "<table border=\"1\" class=\"dataframe\">\n",
              "  <thead>\n",
              "    <tr style=\"text-align: right;\">\n",
              "      <th></th>\n",
              "      <th>0</th>\n",
              "      <th>1</th>\n",
              "      <th>2</th>\n",
              "      <th>3</th>\n",
              "      <th>4</th>\n",
              "      <th>(1, 4)</th>\n",
              "    </tr>\n",
              "  </thead>\n",
              "  <tbody>\n",
              "    <tr>\n",
              "      <th>0</th>\n",
              "      <td>0.052887</td>\n",
              "      <td>0.155962</td>\n",
              "      <td>0.049764</td>\n",
              "      <td>0.946775</td>\n",
              "      <td>0.584184</td>\n",
              "      <td>0</td>\n",
              "    </tr>\n",
              "    <tr>\n",
              "      <th>1</th>\n",
              "      <td>0.000000</td>\n",
              "      <td>0.000000</td>\n",
              "      <td>0.000000</td>\n",
              "      <td>0.000000</td>\n",
              "      <td>0.000000</td>\n",
              "      <td>0</td>\n",
              "    </tr>\n",
              "    <tr>\n",
              "      <th>2</th>\n",
              "      <td>0.994045</td>\n",
              "      <td>0.094081</td>\n",
              "      <td>0.106701</td>\n",
              "      <td>0.975228</td>\n",
              "      <td>0.131278</td>\n",
              "      <td>0</td>\n",
              "    </tr>\n",
              "    <tr>\n",
              "      <th>3</th>\n",
              "      <td>0.747283</td>\n",
              "      <td>0.364661</td>\n",
              "      <td>0.236781</td>\n",
              "      <td>0.569910</td>\n",
              "      <td>0.197192</td>\n",
              "      <td>0</td>\n",
              "    </tr>\n",
              "    <tr>\n",
              "      <th>4</th>\n",
              "      <td>0.143442</td>\n",
              "      <td>0.556144</td>\n",
              "      <td>0.869410</td>\n",
              "      <td>0.932034</td>\n",
              "      <td>0.168648</td>\n",
              "      <td>0</td>\n",
              "    </tr>\n",
              "  </tbody>\n",
              "</table>\n",
              "</div>"
            ],
            "text/plain": [
              "          0         1         2         3         4  (1, 4)\n",
              "0  0.052887  0.155962  0.049764  0.946775  0.584184       0\n",
              "1  0.000000  0.000000  0.000000  0.000000  0.000000       0\n",
              "2  0.994045  0.094081  0.106701  0.975228  0.131278       0\n",
              "3  0.747283  0.364661  0.236781  0.569910  0.197192       0\n",
              "4  0.143442  0.556144  0.869410  0.932034  0.168648       0"
            ]
          },
          "metadata": {
            "tags": []
          },
          "execution_count": 45
        }
      ]
    },
    {
      "cell_type": "code",
      "metadata": {
        "id": "a546daf2"
      },
      "source": [
        "ad.iloc[1:4]=0"
      ],
      "id": "a546daf2",
      "execution_count": null,
      "outputs": []
    },
    {
      "cell_type": "code",
      "metadata": {
        "id": "5cc90325",
        "outputId": "d6a9230c-0c17-4494-ab15-0909abb45cc4"
      },
      "source": [
        "ad"
      ],
      "id": "5cc90325",
      "execution_count": null,
      "outputs": [
        {
          "output_type": "execute_result",
          "data": {
            "text/html": [
              "<div>\n",
              "<style scoped>\n",
              "    .dataframe tbody tr th:only-of-type {\n",
              "        vertical-align: middle;\n",
              "    }\n",
              "\n",
              "    .dataframe tbody tr th {\n",
              "        vertical-align: top;\n",
              "    }\n",
              "\n",
              "    .dataframe thead th {\n",
              "        text-align: right;\n",
              "    }\n",
              "</style>\n",
              "<table border=\"1\" class=\"dataframe\">\n",
              "  <thead>\n",
              "    <tr style=\"text-align: right;\">\n",
              "      <th></th>\n",
              "      <th>0</th>\n",
              "      <th>1</th>\n",
              "      <th>2</th>\n",
              "      <th>3</th>\n",
              "      <th>4</th>\n",
              "      <th>(1, 4)</th>\n",
              "    </tr>\n",
              "  </thead>\n",
              "  <tbody>\n",
              "    <tr>\n",
              "      <th>0</th>\n",
              "      <td>0.052887</td>\n",
              "      <td>0.155962</td>\n",
              "      <td>0.049764</td>\n",
              "      <td>0.946775</td>\n",
              "      <td>0.584184</td>\n",
              "      <td>0</td>\n",
              "    </tr>\n",
              "    <tr>\n",
              "      <th>1</th>\n",
              "      <td>0.000000</td>\n",
              "      <td>0.000000</td>\n",
              "      <td>0.000000</td>\n",
              "      <td>0.000000</td>\n",
              "      <td>0.000000</td>\n",
              "      <td>0</td>\n",
              "    </tr>\n",
              "    <tr>\n",
              "      <th>2</th>\n",
              "      <td>0.000000</td>\n",
              "      <td>0.000000</td>\n",
              "      <td>0.000000</td>\n",
              "      <td>0.000000</td>\n",
              "      <td>0.000000</td>\n",
              "      <td>0</td>\n",
              "    </tr>\n",
              "    <tr>\n",
              "      <th>3</th>\n",
              "      <td>0.000000</td>\n",
              "      <td>0.000000</td>\n",
              "      <td>0.000000</td>\n",
              "      <td>0.000000</td>\n",
              "      <td>0.000000</td>\n",
              "      <td>0</td>\n",
              "    </tr>\n",
              "    <tr>\n",
              "      <th>4</th>\n",
              "      <td>0.143442</td>\n",
              "      <td>0.556144</td>\n",
              "      <td>0.869410</td>\n",
              "      <td>0.932034</td>\n",
              "      <td>0.168648</td>\n",
              "      <td>0</td>\n",
              "    </tr>\n",
              "  </tbody>\n",
              "</table>\n",
              "</div>"
            ],
            "text/plain": [
              "          0         1         2         3         4  (1, 4)\n",
              "0  0.052887  0.155962  0.049764  0.946775  0.584184       0\n",
              "1  0.000000  0.000000  0.000000  0.000000  0.000000       0\n",
              "2  0.000000  0.000000  0.000000  0.000000  0.000000       0\n",
              "3  0.000000  0.000000  0.000000  0.000000  0.000000       0\n",
              "4  0.143442  0.556144  0.869410  0.932034  0.168648       0"
            ]
          },
          "metadata": {
            "tags": []
          },
          "execution_count": 49
        }
      ]
    },
    {
      "cell_type": "code",
      "metadata": {
        "id": "1c0171aa"
      },
      "source": [
        "ad.drop((1,4),axis=1, inplace=True)"
      ],
      "id": "1c0171aa",
      "execution_count": null,
      "outputs": []
    },
    {
      "cell_type": "code",
      "metadata": {
        "id": "b44c52a4"
      },
      "source": [
        "ad[0,3]=1"
      ],
      "id": "b44c52a4",
      "execution_count": null,
      "outputs": []
    },
    {
      "cell_type": "code",
      "metadata": {
        "id": "9423c351"
      },
      "source": [
        "ad.drop((0,3),axis=1, inplace=True)\n"
      ],
      "id": "9423c351",
      "execution_count": null,
      "outputs": []
    },
    {
      "cell_type": "code",
      "metadata": {
        "id": "c7346f02",
        "outputId": "a4b619d6-0951-4513-8441-b9a64e2a1863"
      },
      "source": [
        "ad"
      ],
      "id": "c7346f02",
      "execution_count": null,
      "outputs": [
        {
          "output_type": "execute_result",
          "data": {
            "text/html": [
              "<div>\n",
              "<style scoped>\n",
              "    .dataframe tbody tr th:only-of-type {\n",
              "        vertical-align: middle;\n",
              "    }\n",
              "\n",
              "    .dataframe tbody tr th {\n",
              "        vertical-align: top;\n",
              "    }\n",
              "\n",
              "    .dataframe thead th {\n",
              "        text-align: right;\n",
              "    }\n",
              "</style>\n",
              "<table border=\"1\" class=\"dataframe\">\n",
              "  <thead>\n",
              "    <tr style=\"text-align: right;\">\n",
              "      <th></th>\n",
              "      <th>0</th>\n",
              "      <th>1</th>\n",
              "      <th>2</th>\n",
              "      <th>3</th>\n",
              "      <th>4</th>\n",
              "    </tr>\n",
              "  </thead>\n",
              "  <tbody>\n",
              "    <tr>\n",
              "      <th>0</th>\n",
              "      <td>0.052887</td>\n",
              "      <td>0.155962</td>\n",
              "      <td>0.049764</td>\n",
              "      <td>0.946775</td>\n",
              "      <td>0.584184</td>\n",
              "    </tr>\n",
              "    <tr>\n",
              "      <th>1</th>\n",
              "      <td>0.000000</td>\n",
              "      <td>0.000000</td>\n",
              "      <td>0.000000</td>\n",
              "      <td>0.000000</td>\n",
              "      <td>0.000000</td>\n",
              "    </tr>\n",
              "    <tr>\n",
              "      <th>2</th>\n",
              "      <td>0.000000</td>\n",
              "      <td>0.000000</td>\n",
              "      <td>0.000000</td>\n",
              "      <td>0.000000</td>\n",
              "      <td>0.000000</td>\n",
              "    </tr>\n",
              "    <tr>\n",
              "      <th>3</th>\n",
              "      <td>0.000000</td>\n",
              "      <td>0.000000</td>\n",
              "      <td>0.000000</td>\n",
              "      <td>0.000000</td>\n",
              "      <td>0.000000</td>\n",
              "    </tr>\n",
              "    <tr>\n",
              "      <th>4</th>\n",
              "      <td>0.143442</td>\n",
              "      <td>0.556144</td>\n",
              "      <td>0.869410</td>\n",
              "      <td>0.932034</td>\n",
              "      <td>0.168648</td>\n",
              "    </tr>\n",
              "  </tbody>\n",
              "</table>\n",
              "</div>"
            ],
            "text/plain": [
              "          0         1         2         3         4\n",
              "0  0.052887  0.155962  0.049764  0.946775  0.584184\n",
              "1  0.000000  0.000000  0.000000  0.000000  0.000000\n",
              "2  0.000000  0.000000  0.000000  0.000000  0.000000\n",
              "3  0.000000  0.000000  0.000000  0.000000  0.000000\n",
              "4  0.143442  0.556144  0.869410  0.932034  0.168648"
            ]
          },
          "metadata": {
            "tags": []
          },
          "execution_count": 60
        }
      ]
    },
    {
      "cell_type": "code",
      "metadata": {
        "id": "bf3875fe"
      },
      "source": [
        "ad.iloc[1 & 3]=1"
      ],
      "id": "bf3875fe",
      "execution_count": null,
      "outputs": []
    },
    {
      "cell_type": "code",
      "metadata": {
        "id": "4316c160"
      },
      "source": [
        ""
      ],
      "id": "4316c160",
      "execution_count": null,
      "outputs": []
    },
    {
      "cell_type": "code",
      "metadata": {
        "id": "f03c1673",
        "outputId": "d2990aee-18f4-498f-fc32-995e8692e2f5"
      },
      "source": [
        "ad"
      ],
      "id": "f03c1673",
      "execution_count": null,
      "outputs": [
        {
          "output_type": "execute_result",
          "data": {
            "text/html": [
              "<div>\n",
              "<style scoped>\n",
              "    .dataframe tbody tr th:only-of-type {\n",
              "        vertical-align: middle;\n",
              "    }\n",
              "\n",
              "    .dataframe tbody tr th {\n",
              "        vertical-align: top;\n",
              "    }\n",
              "\n",
              "    .dataframe thead th {\n",
              "        text-align: right;\n",
              "    }\n",
              "</style>\n",
              "<table border=\"1\" class=\"dataframe\">\n",
              "  <thead>\n",
              "    <tr style=\"text-align: right;\">\n",
              "      <th></th>\n",
              "      <th>0</th>\n",
              "      <th>1</th>\n",
              "      <th>2</th>\n",
              "      <th>3</th>\n",
              "      <th>4</th>\n",
              "    </tr>\n",
              "  </thead>\n",
              "  <tbody>\n",
              "    <tr>\n",
              "      <th>0</th>\n",
              "      <td>1.000000</td>\n",
              "      <td>1.000000</td>\n",
              "      <td>1.00000</td>\n",
              "      <td>1.000000</td>\n",
              "      <td>1.000000</td>\n",
              "    </tr>\n",
              "    <tr>\n",
              "      <th>1</th>\n",
              "      <td>1.000000</td>\n",
              "      <td>1.000000</td>\n",
              "      <td>1.00000</td>\n",
              "      <td>1.000000</td>\n",
              "      <td>1.000000</td>\n",
              "    </tr>\n",
              "    <tr>\n",
              "      <th>2</th>\n",
              "      <td>0.000000</td>\n",
              "      <td>0.000000</td>\n",
              "      <td>0.00000</td>\n",
              "      <td>0.000000</td>\n",
              "      <td>0.000000</td>\n",
              "    </tr>\n",
              "    <tr>\n",
              "      <th>3</th>\n",
              "      <td>0.000000</td>\n",
              "      <td>0.000000</td>\n",
              "      <td>0.00000</td>\n",
              "      <td>0.000000</td>\n",
              "      <td>0.000000</td>\n",
              "    </tr>\n",
              "    <tr>\n",
              "      <th>4</th>\n",
              "      <td>0.143442</td>\n",
              "      <td>0.556144</td>\n",
              "      <td>0.86941</td>\n",
              "      <td>0.932034</td>\n",
              "      <td>0.168648</td>\n",
              "    </tr>\n",
              "  </tbody>\n",
              "</table>\n",
              "</div>"
            ],
            "text/plain": [
              "          0         1        2         3         4\n",
              "0  1.000000  1.000000  1.00000  1.000000  1.000000\n",
              "1  1.000000  1.000000  1.00000  1.000000  1.000000\n",
              "2  0.000000  0.000000  0.00000  0.000000  0.000000\n",
              "3  0.000000  0.000000  0.00000  0.000000  0.000000\n",
              "4  0.143442  0.556144  0.86941  0.932034  0.168648"
            ]
          },
          "metadata": {
            "tags": []
          },
          "execution_count": 66
        }
      ]
    },
    {
      "cell_type": "code",
      "metadata": {
        "id": "eda2fe3d"
      },
      "source": [
        "ad.loc[:,[1]]=40"
      ],
      "id": "eda2fe3d",
      "execution_count": null,
      "outputs": []
    },
    {
      "cell_type": "code",
      "metadata": {
        "id": "82f13ab8",
        "outputId": "0d0c74de-6566-472d-8252-ef1e172597fa"
      },
      "source": [
        "ad"
      ],
      "id": "82f13ab8",
      "execution_count": null,
      "outputs": [
        {
          "output_type": "execute_result",
          "data": {
            "text/html": [
              "<div>\n",
              "<style scoped>\n",
              "    .dataframe tbody tr th:only-of-type {\n",
              "        vertical-align: middle;\n",
              "    }\n",
              "\n",
              "    .dataframe tbody tr th {\n",
              "        vertical-align: top;\n",
              "    }\n",
              "\n",
              "    .dataframe thead th {\n",
              "        text-align: right;\n",
              "    }\n",
              "</style>\n",
              "<table border=\"1\" class=\"dataframe\">\n",
              "  <thead>\n",
              "    <tr style=\"text-align: right;\">\n",
              "      <th></th>\n",
              "      <th>0</th>\n",
              "      <th>1</th>\n",
              "      <th>2</th>\n",
              "      <th>3</th>\n",
              "      <th>4</th>\n",
              "    </tr>\n",
              "  </thead>\n",
              "  <tbody>\n",
              "    <tr>\n",
              "      <th>0</th>\n",
              "      <td>1.000000</td>\n",
              "      <td>40.0</td>\n",
              "      <td>1.00000</td>\n",
              "      <td>1.000000</td>\n",
              "      <td>1.000000</td>\n",
              "    </tr>\n",
              "    <tr>\n",
              "      <th>1</th>\n",
              "      <td>1.000000</td>\n",
              "      <td>40.0</td>\n",
              "      <td>1.00000</td>\n",
              "      <td>1.000000</td>\n",
              "      <td>1.000000</td>\n",
              "    </tr>\n",
              "    <tr>\n",
              "      <th>2</th>\n",
              "      <td>0.000000</td>\n",
              "      <td>40.0</td>\n",
              "      <td>0.00000</td>\n",
              "      <td>0.000000</td>\n",
              "      <td>0.000000</td>\n",
              "    </tr>\n",
              "    <tr>\n",
              "      <th>3</th>\n",
              "      <td>0.000000</td>\n",
              "      <td>40.0</td>\n",
              "      <td>0.00000</td>\n",
              "      <td>0.000000</td>\n",
              "      <td>0.000000</td>\n",
              "    </tr>\n",
              "    <tr>\n",
              "      <th>4</th>\n",
              "      <td>0.143442</td>\n",
              "      <td>40.0</td>\n",
              "      <td>0.86941</td>\n",
              "      <td>0.932034</td>\n",
              "      <td>0.168648</td>\n",
              "    </tr>\n",
              "  </tbody>\n",
              "</table>\n",
              "</div>"
            ],
            "text/plain": [
              "          0     1        2         3         4\n",
              "0  1.000000  40.0  1.00000  1.000000  1.000000\n",
              "1  1.000000  40.0  1.00000  1.000000  1.000000\n",
              "2  0.000000  40.0  0.00000  0.000000  0.000000\n",
              "3  0.000000  40.0  0.00000  0.000000  0.000000\n",
              "4  0.143442  40.0  0.86941  0.932034  0.168648"
            ]
          },
          "metadata": {
            "tags": []
          },
          "execution_count": 68
        }
      ]
    },
    {
      "cell_type": "code",
      "metadata": {
        "id": "d23b60c2"
      },
      "source": [
        "ad.loc[[1],[2]]=25"
      ],
      "id": "d23b60c2",
      "execution_count": null,
      "outputs": []
    },
    {
      "cell_type": "code",
      "metadata": {
        "id": "05dfbddc",
        "outputId": "86a378f3-1f26-4702-acba-e565cf9803f4"
      },
      "source": [
        "ad"
      ],
      "id": "05dfbddc",
      "execution_count": null,
      "outputs": [
        {
          "output_type": "execute_result",
          "data": {
            "text/html": [
              "<div>\n",
              "<style scoped>\n",
              "    .dataframe tbody tr th:only-of-type {\n",
              "        vertical-align: middle;\n",
              "    }\n",
              "\n",
              "    .dataframe tbody tr th {\n",
              "        vertical-align: top;\n",
              "    }\n",
              "\n",
              "    .dataframe thead th {\n",
              "        text-align: right;\n",
              "    }\n",
              "</style>\n",
              "<table border=\"1\" class=\"dataframe\">\n",
              "  <thead>\n",
              "    <tr style=\"text-align: right;\">\n",
              "      <th></th>\n",
              "      <th>0</th>\n",
              "      <th>1</th>\n",
              "      <th>2</th>\n",
              "      <th>3</th>\n",
              "      <th>4</th>\n",
              "    </tr>\n",
              "  </thead>\n",
              "  <tbody>\n",
              "    <tr>\n",
              "      <th>0</th>\n",
              "      <td>1.000000</td>\n",
              "      <td>40.0</td>\n",
              "      <td>1.00000</td>\n",
              "      <td>1.000000</td>\n",
              "      <td>1.000000</td>\n",
              "    </tr>\n",
              "    <tr>\n",
              "      <th>1</th>\n",
              "      <td>1.000000</td>\n",
              "      <td>40.0</td>\n",
              "      <td>25.00000</td>\n",
              "      <td>1.000000</td>\n",
              "      <td>1.000000</td>\n",
              "    </tr>\n",
              "    <tr>\n",
              "      <th>2</th>\n",
              "      <td>0.000000</td>\n",
              "      <td>40.0</td>\n",
              "      <td>0.00000</td>\n",
              "      <td>0.000000</td>\n",
              "      <td>0.000000</td>\n",
              "    </tr>\n",
              "    <tr>\n",
              "      <th>3</th>\n",
              "      <td>0.000000</td>\n",
              "      <td>40.0</td>\n",
              "      <td>0.00000</td>\n",
              "      <td>0.000000</td>\n",
              "      <td>0.000000</td>\n",
              "    </tr>\n",
              "    <tr>\n",
              "      <th>4</th>\n",
              "      <td>0.143442</td>\n",
              "      <td>40.0</td>\n",
              "      <td>0.86941</td>\n",
              "      <td>0.932034</td>\n",
              "      <td>0.168648</td>\n",
              "    </tr>\n",
              "  </tbody>\n",
              "</table>\n",
              "</div>"
            ],
            "text/plain": [
              "          0     1         2         3         4\n",
              "0  1.000000  40.0   1.00000  1.000000  1.000000\n",
              "1  1.000000  40.0  25.00000  1.000000  1.000000\n",
              "2  0.000000  40.0   0.00000  0.000000  0.000000\n",
              "3  0.000000  40.0   0.00000  0.000000  0.000000\n",
              "4  0.143442  40.0   0.86941  0.932034  0.168648"
            ]
          },
          "metadata": {
            "tags": []
          },
          "execution_count": 74
        }
      ]
    },
    {
      "cell_type": "code",
      "metadata": {
        "id": "e74afe50"
      },
      "source": [
        ""
      ],
      "id": "e74afe50",
      "execution_count": null,
      "outputs": []
    }
  ]
}