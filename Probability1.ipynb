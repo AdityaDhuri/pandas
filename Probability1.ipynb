{
 "cells": [
  {
   "cell_type": "code",
   "execution_count": 2,
   "id": "c897bd93",
   "metadata": {},
   "outputs": [
    {
     "data": {
      "text/plain": [
       "0.8413447460685429"
      ]
     },
     "execution_count": 2,
     "metadata": {},
     "output_type": "execute_result"
    }
   ],
   "source": [
    "# P(X<=70), std.dev=10, mean=60\n",
    "from scipy import stats\n",
    "stats.norm.cdf(70,loc=60,scale=10)"
   ]
  },
  {
   "cell_type": "code",
   "execution_count": 3,
   "id": "7cac88e9",
   "metadata": {},
   "outputs": [
    {
     "data": {
      "text/plain": [
       "0.14254260383881612"
      ]
     },
     "execution_count": 3,
     "metadata": {},
     "output_type": "execute_result"
    }
   ],
   "source": [
    "# P(X<=680), std.dev=29, mean=711\n",
    "from scipy import stats\n",
    "stats.norm.cdf(680,loc=711,scale=29)"
   ]
  },
  {
   "cell_type": "code",
   "execution_count": 9,
   "id": "515e67c4",
   "metadata": {},
   "outputs": [
    {
     "data": {
      "text/plain": [
       "0.37814937265194704"
      ]
     },
     "execution_count": 9,
     "metadata": {},
     "output_type": "execute_result"
    }
   ],
   "source": [
    "# P(X<=720), std.dev=29, mean=711\n",
    "from scipy import stats\n",
    "1-stats.norm.cdf(720,loc=711,scale=29)"
   ]
  },
  {
   "cell_type": "code",
   "execution_count": 5,
   "id": "3714784a",
   "metadata": {},
   "outputs": [
    {
     "data": {
      "text/plain": [
       "2.862220919247044e-105"
      ]
     },
     "execution_count": 5,
     "metadata": {},
     "output_type": "execute_result"
    }
   ],
   "source": [
    "# P(X<=80), std.dev=29, mean=711\n",
    "from scipy import stats\n",
    "stats.norm.cdf(80,loc=711,scale=29)"
   ]
  },
  {
   "cell_type": "code",
   "execution_count": 6,
   "id": "2a9f0583",
   "metadata": {},
   "outputs": [
    {
     "data": {
      "text/plain": [
       "0.7438216233498722"
      ]
     },
     "execution_count": 6,
     "metadata": {},
     "output_type": "execute_result"
    }
   ],
   "source": [
    "# P(650<= X <=730), std.dev=29, mean=711\n",
    "from scipy import stats\n",
    "stats.norm.cdf(730,loc=711,scale=29) #step1 for 730"
   ]
  },
  {
   "cell_type": "code",
   "execution_count": 7,
   "id": "a4b2dc03",
   "metadata": {},
   "outputs": [
    {
     "data": {
      "text/plain": [
       "0.017713301107505047"
      ]
     },
     "execution_count": 7,
     "metadata": {},
     "output_type": "execute_result"
    }
   ],
   "source": [
    "from scipy import stats\n",
    "stats.norm.cdf(650,loc=711,scale=29) #step2 for 650"
   ]
  },
  {
   "cell_type": "code",
   "execution_count": 8,
   "id": "0fd5e172",
   "metadata": {},
   "outputs": [
    {
     "data": {
      "text/plain": [
       "0.7261083222423672"
      ]
     },
     "execution_count": 8,
     "metadata": {},
     "output_type": "execute_result"
    }
   ],
   "source": [
    "0.7438216233498722-0.017713301107505047  #subtract to find the answer for inbetween/range if given"
   ]
  },
  {
   "cell_type": "code",
   "execution_count": null,
   "id": "7d5f2a55",
   "metadata": {},
   "outputs": [],
   "source": []
  },
  {
   "cell_type": "code",
   "execution_count": null,
   "id": "99370934",
   "metadata": {},
   "outputs": [],
   "source": []
  }
 ],
 "metadata": {
  "kernelspec": {
   "display_name": "Python 3",
   "language": "python",
   "name": "python3"
  },
  "language_info": {
   "codemirror_mode": {
    "name": "ipython",
    "version": 3
   },
   "file_extension": ".py",
   "mimetype": "text/x-python",
   "name": "python",
   "nbconvert_exporter": "python",
   "pygments_lexer": "ipython3",
   "version": "3.8.8"
  }
 },
 "nbformat": 4,
 "nbformat_minor": 5
}
